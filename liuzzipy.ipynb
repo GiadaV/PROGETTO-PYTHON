{
 "cells": [
  {
   "cell_type": "code",
   "execution_count": 1,
   "metadata": {},
   "outputs": [],
   "source": [
    "from pulp import *\n",
    "import glpk\n",
    "import cylp"
   ]
  },
  {
   "cell_type": "code",
   "execution_count": 2,
   "metadata": {},
   "outputs": [],
   "source": [
    "#definition of the problem\n",
    "prob = LpProblem(\"Go_Nuts_3\",LpMinimize)"
   ]
  },
  {
   "cell_type": "code",
   "execution_count": null,
   "metadata": {},
   "outputs": [],
   "source": [
    "#definition of the variables\n",
    "juice_items = ['xGE', 'xKE', 'xGT', 'xKT', 'xGN', 'xKN']\n",
    "juice_integer = LpVariable.dicts(\"Juice\",juice_items,0,cat='Integer')\n",
    "\n",
    "juicebin_items = ['yE', 'yT', 'yN']\n",
    "juice_binary = LpVariable.dicts(\"Juicebin\",juicebin_items,0, 1, cat='Integer')\n",
    "costs[i]*juice_integer[i] + fixed[j]*juice_binary[j] for i in juice_items for j in juicebin_items\n",
    "prob"
   ]
  },
  {
   "cell_type": "code",
   "execution_count": null,
   "metadata": {},
   "outputs": [],
   "source": [
    "costs = {'xGE': 21, 'xKE': 22.5, 'xGT': 22.5, 'xKT': 24.5, 'xGN': 23, 'xKN': 25.5}\n",
    "fixed = {'yE': 1500, 'yT':2000, 'yN': 3000}\n",
    "\n",
    "prob = prob + lpSum([costs[i]*juice_integer[i] for i in juice_items]) + lpSum([fixed[j]*juice_binary[j] for j in juicebin_items])\n",
    "prob"
   ]
  },
  {
   "cell_type": "code",
   "execution_count": 3,
   "metadata": {},
   "outputs": [],
   "source": [
    "#definition of the variables\n",
    "xGE = pulp.LpVariable(\"xGE\",lowBound = 0, cat = 'Integer')\n",
    "xKE = pulp.LpVariable(\"xKE\",lowBound = 0, cat = 'Integer')\n",
    "xGT = pulp.LpVariable(\"xGT\",lowBound = 0, cat = 'Integer')\n",
    "xKT = pulp.LpVariable(\"xKT\",lowBound = 0, cat = 'Integer')\n",
    "xGN = pulp.LpVariable(\"xGN\",lowBound = 0, cat = 'Integer')\n",
    "xKN = pulp.LpVariable(\"xKN\",lowBound = 0, cat = 'Integer')\n",
    "\n",
    "yE = pulp.LpVariable(\"yE\",lowBound = 0, upBound = 1, cat = 'Integer')\n",
    "yT = pulp.LpVariable(\"yT\",lowBound = 0, upBound = 1, cat = 'Integer')\n",
    "yN = pulp.LpVariable(\"yN\",lowBound = 0, upBound = 1, cat = 'Integer')"
   ]
  },
  {
   "cell_type": "code",
   "execution_count": 4,
   "metadata": {},
   "outputs": [],
   "source": [
    "prob += 21*xGE + 22.5*xKE + 22.5*xGT + 24.5*xKT + 23*xGN + 25.5*xKN + 1500*yE + 2000*yT + 3000*yN"
   ]
  },
  {
   "cell_type": "code",
   "execution_count": 5,
   "metadata": {},
   "outputs": [
    {
     "data": {
      "text/plain": [
       "Go_Nuts_3:\n",
       "MINIMIZE\n",
       "21*xGE + 23*xGN + 22.5*xGT + 22.5*xKE + 25.5*xKN + 24.5*xKT + 1500*yE + 3000*yN + 2000*yT + 0.0\n",
       "SUBJECT TO\n",
       "_C1: xGE + xKE <= 425\n",
       "\n",
       "_C2: xGT + xKT <= 400\n",
       "\n",
       "_C3: xGN + xKN <= 750\n",
       "\n",
       "_C4: xGE + xGN + xGT >= 550\n",
       "\n",
       "_C5: xKE + xKN + xKT >= 450\n",
       "\n",
       "_C6: xGE + xKE - 425 yE <= 0\n",
       "\n",
       "_C7: xGT + xKT - 400 yT <= 0\n",
       "\n",
       "_C8: xGN + xKN - 750 yN <= 0\n",
       "\n",
       "_C9: xGE + xKE - 100 yE >= 0\n",
       "\n",
       "_C10: xGT + xKT - 250 yT >= 0\n",
       "\n",
       "_C11: xGN + xKN - 600 yN >= 0\n",
       "\n",
       "VARIABLES\n",
       "0 <= xGE Integer\n",
       "0 <= xGN Integer\n",
       "0 <= xGT Integer\n",
       "0 <= xKE Integer\n",
       "0 <= xKN Integer\n",
       "0 <= xKT Integer\n",
       "0 <= yE <= 1 Integer\n",
       "0 <= yN <= 1 Integer\n",
       "0 <= yT <= 1 Integer"
      ]
     },
     "execution_count": 5,
     "metadata": {},
     "output_type": "execute_result"
    }
   ],
   "source": [
    "#constraints definition\n",
    "prob += xGE + xKE <= 425\n",
    "prob += xGT + xKT <= 400\n",
    "prob += xGN + xKN <= 750\n",
    "prob += xGE + xGT + xGN >= 550\n",
    "prob += xKE + xKT + xKN >= 450\n",
    "prob += xGE + xKE - 425*yE <= 0\n",
    "prob += xGT + xKT - 400*yT <= 0\n",
    "prob += xGN + xKN - 750*yN <= 0\n",
    "prob += xGE + xKE - 100*yE >= 0\n",
    "prob += xGT + xKT - 250*yT >= 0\n",
    "prob += xGN + xKN - 600*yN >= 0\n",
    "\n",
    "prob"
   ]
  },
  {
   "cell_type": "code",
   "execution_count": 6,
   "metadata": {},
   "outputs": [],
   "source": [
    "solution = prob.solve()"
   ]
  },
  {
   "cell_type": "code",
   "execution_count": 9,
   "metadata": {},
   "outputs": [
    {
     "ename": "AttributeError",
     "evalue": "module 'pulp.pulp' has no attribute 'LpStatus'",
     "output_type": "error",
     "traceback": [
      "\u001b[1;31m---------------------------------------------------------------------------\u001b[0m",
      "\u001b[1;31mAttributeError\u001b[0m                            Traceback (most recent call last)",
      "\u001b[1;32m<ipython-input-9-235c6e7fad24>\u001b[0m in \u001b[0;36m<module>\u001b[1;34m\u001b[0m\n\u001b[1;32m----> 1\u001b[1;33m print(str(pulp.LpStatus[solution])+\" ; max value = \"+str(pulp.value(prob.objective))+\n\u001b[0m\u001b[0;32m      2\u001b[0m       \u001b[1;34m\" ; xGE_opt = \"\u001b[0m\u001b[1;33m+\u001b[0m\u001b[0mstr\u001b[0m\u001b[1;33m(\u001b[0m\u001b[0mpulp\u001b[0m\u001b[1;33m.\u001b[0m\u001b[0mvalue\u001b[0m\u001b[1;33m(\u001b[0m\u001b[0mxGE\u001b[0m\u001b[1;33m)\u001b[0m\u001b[1;33m)\u001b[0m\u001b[1;33m+\u001b[0m\u001b[1;33m\u001b[0m\u001b[1;33m\u001b[0m\u001b[0m\n\u001b[0;32m      3\u001b[0m       \u001b[1;34m\" ; xKE_opt = \"\u001b[0m\u001b[1;33m+\u001b[0m\u001b[0mstr\u001b[0m\u001b[1;33m(\u001b[0m\u001b[0mpulp\u001b[0m\u001b[1;33m.\u001b[0m\u001b[0mvalue\u001b[0m\u001b[1;33m(\u001b[0m\u001b[0mxKE\u001b[0m\u001b[1;33m)\u001b[0m\u001b[1;33m)\u001b[0m\u001b[1;33m+\u001b[0m\u001b[1;33m\u001b[0m\u001b[1;33m\u001b[0m\u001b[0m\n\u001b[0;32m      4\u001b[0m       \u001b[1;34m\" ; xGT_opt = \"\u001b[0m\u001b[1;33m+\u001b[0m\u001b[0mstr\u001b[0m\u001b[1;33m(\u001b[0m\u001b[0mpulp\u001b[0m\u001b[1;33m.\u001b[0m\u001b[0mvalue\u001b[0m\u001b[1;33m(\u001b[0m\u001b[0mxGT\u001b[0m\u001b[1;33m)\u001b[0m\u001b[1;33m)\u001b[0m\u001b[1;33m+\u001b[0m\u001b[1;33m\u001b[0m\u001b[1;33m\u001b[0m\u001b[0m\n\u001b[0;32m      5\u001b[0m       \u001b[1;34m\" ; xKT_opt = \"\u001b[0m\u001b[1;33m+\u001b[0m\u001b[0mstr\u001b[0m\u001b[1;33m(\u001b[0m\u001b[0mpulp\u001b[0m\u001b[1;33m.\u001b[0m\u001b[0mvalue\u001b[0m\u001b[1;33m(\u001b[0m\u001b[0mxKT\u001b[0m\u001b[1;33m)\u001b[0m\u001b[1;33m)\u001b[0m\u001b[1;33m+\u001b[0m\u001b[1;33m\u001b[0m\u001b[1;33m\u001b[0m\u001b[0m\n",
      "\u001b[1;31mAttributeError\u001b[0m: module 'pulp.pulp' has no attribute 'LpStatus'"
     ]
    }
   ],
   "source": [
    "print(str(pulp.LpStatus[solution])+\" ; min value = \"+str(pulp.value(prob.objective))+\n",
    "      \" ; xGE_opt = \"+str(pulp.value(xGE))+\n",
    "      \" ; xKE_opt = \"+str(pulp.value(xKE))+\n",
    "      \" ; xGT_opt = \"+str(pulp.value(xGT))+\n",
    "      \" ; xKT_opt = \"+str(pulp.value(xKT))+\n",
    "      \" ; xGN_opt = \"+str(pulp.value(xGN))+\n",
    "      \" ; xKN_opt = \"+str(pulp.value(xKN))+\n",
    "      \" ; yE_opt = \"+str(pulp.value(yE))+\n",
    "      \" ; yT_opt = \"+str(pulp.value(yT))+\n",
    "      \" ; yN_opt = \"+str(pulp.value(yN)))"
   ]
  }
 ],
 "metadata": {
  "kernelspec": {
   "display_name": "Python 3",
   "language": "python",
   "name": "python3"
  },
  "language_info": {
   "codemirror_mode": {
    "name": "ipython",
    "version": 3
   },
   "file_extension": ".py",
   "mimetype": "text/x-python",
   "name": "python",
   "nbconvert_exporter": "python",
   "pygments_lexer": "ipython3",
   "version": "3.8.3"
  }
 },
 "nbformat": 4,
 "nbformat_minor": 4
}
