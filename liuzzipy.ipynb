{
 "cells": [
  {
   "cell_type": "code",
   "execution_count": 1,
   "metadata": {},
   "outputs": [],
   "source": [
    "from pulp import *\n",
    "import glpk\n",
    "import cylp"
   ]
  },
  {
   "cell_type": "code",
   "execution_count": 2,
   "metadata": {},
   "outputs": [],
   "source": [
    "#problem definition\n",
    "prob = LpProblem(\"Go_Nuts_3\",LpMinimize)"
   ]
  },
  {
   "cell_type": "code",
   "execution_count": 3,
   "metadata": {},
   "outputs": [],
   "source": [
    "#variables definition\n",
    "xGE = pulp.LpVariable(\"xGE\",lowBound = 0, cat = 'Integer')\n",
    "xKE = pulp.LpVariable(\"xKE\",lowBound = 0, cat = 'Integer')\n",
    "xGT = pulp.LpVariable(\"xGT\",lowBound = 0, cat = 'Integer')\n",
    "xKT = pulp.LpVariable(\"xKT\",lowBound = 0, cat = 'Integer')\n",
    "xGN = pulp.LpVariable(\"xGN\",lowBound = 0, cat = 'Integer')\n",
    "xKN = pulp.LpVariable(\"xKN\",lowBound = 0, cat = 'Integer')\n",
    "\n",
    "yE = pulp.LpVariable(\"yE\",lowBound = 0, upBound = 1, cat = 'Integer')\n",
    "yT = pulp.LpVariable(\"yT\",lowBound = 0, upBound = 1, cat = 'Integer')\n",
    "yN = pulp.LpVariable(\"yN\",lowBound = 0, upBound = 1, cat = 'Integer')"
   ]
  },
  {
   "cell_type": "code",
   "execution_count": 4,
   "metadata": {},
   "outputs": [],
   "source": [
    "#objective function\n",
    "prob += 21*xGE + 22.5*xKE + 22.5*xGT + 24.5*xKT + 23*xGN + 25.5*xKN + 1500*yE + 2000*yT + 3000*yN"
   ]
  },
  {
   "cell_type": "code",
   "execution_count": 5,
   "metadata": {},
   "outputs": [],
   "source": [
    "#capacity constraints\n",
    "prob += xGE + xKE <= 425\n",
    "prob += xGT + xKT <= 400\n",
    "prob += xGN + xKN <= 750\n",
    "\n",
    "#demand constraints\n",
    "prob += xGE + xGT + xGN >= 550\n",
    "prob += xKE + xKT + xKN >= 450\n",
    "\n",
    "#linking constraints\n",
    "prob += xGE + xKE - 425*yE <= 0\n",
    "prob += xGT + xKT - 400*yT <= 0\n",
    "prob += xGN + xKN - 750*yN <= 0\n",
    "prob += xGE + xKE - 100*yE >= 0\n",
    "prob += xGT + xKT - 250*yT >= 0\n",
    "prob += xGN + xKN - 600*yN >= 0\n"
   ]
  },
  {
   "cell_type": "code",
   "execution_count": 6,
   "metadata": {},
   "outputs": [
    {
     "data": {
      "text/plain": [
       "Go_Nuts_3:\n",
       "MINIMIZE\n",
       "21*xGE + 23*xGN + 22.5*xGT + 22.5*xKE + 25.5*xKN + 24.5*xKT + 1500*yE + 3000*yN + 2000*yT + 0.0\n",
       "SUBJECT TO\n",
       "_C1: xGE + xKE <= 425\n",
       "\n",
       "_C2: xGT + xKT <= 400\n",
       "\n",
       "_C3: xGN + xKN <= 750\n",
       "\n",
       "_C4: xGE + xGN + xGT >= 550\n",
       "\n",
       "_C5: xKE + xKN + xKT >= 450\n",
       "\n",
       "_C6: xGE + xKE - 425 yE <= 0\n",
       "\n",
       "_C7: xGT + xKT - 400 yT <= 0\n",
       "\n",
       "_C8: xGN + xKN - 750 yN <= 0\n",
       "\n",
       "_C9: xGE + xKE - 100 yE >= 0\n",
       "\n",
       "_C10: xGT + xKT - 250 yT >= 0\n",
       "\n",
       "_C11: xGN + xKN - 600 yN >= 0\n",
       "\n",
       "VARIABLES\n",
       "0 <= xGE Integer\n",
       "0 <= xGN Integer\n",
       "0 <= xGT Integer\n",
       "0 <= xKE Integer\n",
       "0 <= xKN Integer\n",
       "0 <= xKT Integer\n",
       "0 <= yE <= 1 Integer\n",
       "0 <= yN <= 1 Integer\n",
       "0 <= yT <= 1 Integer"
      ]
     },
     "execution_count": 6,
     "metadata": {},
     "output_type": "execute_result"
    }
   ],
   "source": [
    "#problem visualization\n",
    "prob"
   ]
  },
  {
   "cell_type": "code",
   "execution_count": 7,
   "metadata": {},
   "outputs": [],
   "source": [
    "#optimization\n",
    "solution = prob.solve()"
   ]
  },
  {
   "cell_type": "code",
   "execution_count": 8,
   "metadata": {},
   "outputs": [
    {
     "name": "stdout",
     "output_type": "stream",
     "text": [
      "Optimal ; min value = 27425.0 ; xGE_opt = 0.0 ; xKE_opt = 400.0 ; xGT_opt = 0.0 ; xKT_opt = 0.0 ; xGN_opt = 550.0 ; xKN_opt = 50.0 ; yE_opt = 1.0 ; yT_opt = 0.0 ; yN_opt = 1.0\n"
     ]
    }
   ],
   "source": [
    "print(str(LpStatus[solution])+\" ; min value = \"+str(pulp.value(prob.objective))+\n",
    "      \" ; xGE_opt = \"+str(pulp.value(xGE))+\n",
    "      \" ; xKE_opt = \"+str(pulp.value(xKE))+\n",
    "      \" ; xGT_opt = \"+str(pulp.value(xGT))+\n",
    "      \" ; xKT_opt = \"+str(pulp.value(xKT))+\n",
    "      \" ; xGN_opt = \"+str(pulp.value(xGN))+\n",
    "      \" ; xKN_opt = \"+str(pulp.value(xKN))+\n",
    "      \" ; yE_opt = \"+str(pulp.value(yE))+\n",
    "      \" ; yT_opt = \"+str(pulp.value(yT))+\n",
    "      \" ; yN_opt = \"+str(pulp.value(yN)))"
   ]
  }
 ],
 "metadata": {
  "kernelspec": {
   "display_name": "Python 3",
   "language": "python",
   "name": "python3"
  },
  "language_info": {
   "codemirror_mode": {
    "name": "ipython",
    "version": 3
   },
   "file_extension": ".py",
   "mimetype": "text/x-python",
   "name": "python",
   "nbconvert_exporter": "python",
   "pygments_lexer": "ipython3",
   "version": "3.8.3"
  }
 },
 "nbformat": 4,
 "nbformat_minor": 4
}
